{
 "cells": [
  {
   "cell_type": "code",
   "execution_count": 1,
   "metadata": {},
   "outputs": [],
   "source": [
    "class Solution(object):\n",
    "    def romanToInt(self, s):\n",
    "        \"\"\"\n",
    "        :type s: str\n",
    "        :rtype: int\n",
    "        \"\"\"\n",
    "        \n",
    "        roman_dict = {'I':1,'V':5,'X':10,'L':50,'C':100,'D':500,'M':1000}\n",
    "        \n",
    "        count_sum = 0\n",
    "        pass_step = 999\n",
    "        \n",
    "        for step in range(len(s)):\n",
    "            \n",
    "            if pass_step == step:\n",
    "                continue\n",
    "                \n",
    "            now_step_value = roman_dict.get(s[step])\n",
    "            \n",
    "            if len(s)-1 != step:\n",
    "                \n",
    "                if roman_dict.get(s[step+1]) > now_step_value:\n",
    "                    count_sum = count_sum + roman_dict.get(s[step+1]) - now_step_value\n",
    "                    pass_step = step + 1\n",
    "                else:\n",
    "                    count_sum = count_sum + now_step_value\n",
    "            else:\n",
    "                count_sum = count_sum + now_step_value\n",
    "                    \n",
    "        return count_sum"
   ]
  },
  {
   "cell_type": "code",
   "execution_count": 2,
   "metadata": {},
   "outputs": [
    {
     "data": {
      "text/plain": [
       "1994"
      ]
     },
     "execution_count": 2,
     "metadata": {},
     "output_type": "execute_result"
    }
   ],
   "source": [
    "test_solution = Solution()\n",
    "test_solution.romanToInt(\"MCMXCIV\")"
   ]
  },
  {
   "cell_type": "code",
   "execution_count": 3,
   "metadata": {},
   "outputs": [
    {
     "data": {
      "text/plain": [
       "3045"
      ]
     },
     "execution_count": 3,
     "metadata": {},
     "output_type": "execute_result"
    }
   ],
   "source": [
    "test_solution.romanToInt(\"MMMXLV\")"
   ]
  }
 ],
 "metadata": {
  "kernelspec": {
   "display_name": "Python 3",
   "language": "python",
   "name": "python3"
  },
  "language_info": {
   "codemirror_mode": {
    "name": "ipython",
    "version": 3
   },
   "file_extension": ".py",
   "mimetype": "text/x-python",
   "name": "python",
   "nbconvert_exporter": "python",
   "pygments_lexer": "ipython3",
   "version": "3.6.9"
  }
 },
 "nbformat": 4,
 "nbformat_minor": 4
}
