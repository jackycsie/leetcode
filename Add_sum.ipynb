{
 "cells": [
  {
   "cell_type": "markdown",
   "metadata": {},
   "source": [
    "# Difficult version"
   ]
  },
  {
   "cell_type": "code",
   "execution_count": 1,
   "metadata": {
    "ExecuteTime": {
     "end_time": "2020-02-20T08:33:46.063942Z",
     "start_time": "2020-02-20T08:33:46.055118Z"
    }
   },
   "outputs": [],
   "source": [
    "class Solution(object):\n",
    "    def twoSum(self, nums, target):\n",
    "        \n",
    "        hasttable_tmp = {}\n",
    "        \n",
    "        for i in range(len(nums)):            \n",
    "            answer_tmp = target - nums[i]            \n",
    "            if (answer_tmp in hasttable_tmp) and (hasttable_tmp[answer_tmp] != i):\n",
    "                return (i, hasttable_tmp[answer_tmp])            \n",
    "            hasttable_tmp[nums[i]] = i"
   ]
  },
  {
   "cell_type": "code",
   "execution_count": 2,
   "metadata": {
    "ExecuteTime": {
     "end_time": "2020-02-20T08:33:46.156224Z",
     "start_time": "2020-02-20T08:33:46.068361Z"
    },
    "scrolled": true
   },
   "outputs": [
    {
     "data": {
      "text/plain": [
       "(4, 2)"
      ]
     },
     "execution_count": 2,
     "metadata": {},
     "output_type": "execute_result"
    }
   ],
   "source": [
    "number = [5,9,5,3,8]\n",
    "target = 13\n",
    "test_solution = Solution()\n",
    "test_solution.twoSum(number,target)"
   ]
  },
  {
   "cell_type": "markdown",
   "metadata": {
    "ExecuteTime": {
     "end_time": "2020-02-20T08:32:48.834727Z",
     "start_time": "2020-02-20T08:32:48.778712Z"
    }
   },
   "source": [
    "# Easy version"
   ]
  },
  {
   "cell_type": "code",
   "execution_count": 3,
   "metadata": {
    "ExecuteTime": {
     "end_time": "2020-02-20T08:33:46.211212Z",
     "start_time": "2020-02-20T08:33:46.161103Z"
    }
   },
   "outputs": [],
   "source": [
    "class Solution(object):\n",
    "    def twoSum(self, nums, target):\n",
    "        for i in range(len(nums)):\n",
    "            for j in range(len(nums)):                \n",
    "                if (nums[i]+nums[j]==target) and ( i != j):\n",
    "                    return [i, j]"
   ]
  },
  {
   "cell_type": "code",
   "execution_count": 4,
   "metadata": {
    "ExecuteTime": {
     "end_time": "2020-02-20T08:33:46.264801Z",
     "start_time": "2020-02-20T08:33:46.216989Z"
    }
   },
   "outputs": [
    {
     "data": {
      "text/plain": [
       "[0, 4]"
      ]
     },
     "execution_count": 4,
     "metadata": {},
     "output_type": "execute_result"
    }
   ],
   "source": [
    "number = [5,9,5,3,8]\n",
    "target = 13\n",
    "test_solution = Solution()\n",
    "test_solution.twoSum(number,target)"
   ]
  }
 ],
 "metadata": {
  "kernelspec": {
   "display_name": "Python 2",
   "language": "python",
   "name": "python2"
  },
  "language_info": {
   "codemirror_mode": {
    "name": "ipython",
    "version": 2
   },
   "file_extension": ".py",
   "mimetype": "text/x-python",
   "name": "python",
   "nbconvert_exporter": "python",
   "pygments_lexer": "ipython2",
   "version": "2.7.17"
  }
 },
 "nbformat": 4,
 "nbformat_minor": 2
}
