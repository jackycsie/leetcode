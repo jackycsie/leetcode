{
 "cells": [
  {
   "cell_type": "code",
   "execution_count": 57,
   "metadata": {},
   "outputs": [],
   "source": [
    "s = \"-33-5*2\""
   ]
  },
  {
   "cell_type": "code",
   "execution_count": 60,
   "metadata": {},
   "outputs": [],
   "source": [
    "class Solution:\n",
    "    def calculate(self, s):\n",
    "        queue_number = []\n",
    "        currect_number = 0\n",
    "        operation = '+'\n",
    "\n",
    "        for i in s + '+':\n",
    "            if i == \" \":\n",
    "                continue\n",
    "            if i.isdigit():\n",
    "                currect_number = (currect_number * 10) + int(i)\n",
    "            else:\n",
    "                if operation == '+':\n",
    "                    queue_number.append(currect_number)\n",
    "                elif operation == '-':\n",
    "                    queue_number.append(-currect_number)\n",
    "                elif operation == '*':\n",
    "                    queue_number.append(queue_number.pop() * currect_number)\n",
    "                elif operation == '/':\n",
    "                    queue_number.append(int(queue_number.pop() / currect_number))\n",
    "                operation = i\n",
    "                currect_number = 0\n",
    "        print(queue_number)\n",
    "        return sum(queue_number)\n",
    "\n"
   ]
  },
  {
   "cell_type": "code",
   "execution_count": 61,
   "metadata": {},
   "outputs": [
    {
     "name": "stdout",
     "output_type": "stream",
     "text": [
      "[0, -33, -10]\n"
     ]
    },
    {
     "data": {
      "text/plain": [
       "-43"
      ]
     },
     "execution_count": 61,
     "metadata": {},
     "output_type": "execute_result"
    }
   ],
   "source": [
    "test_solution = Solution()\n",
    "test_solution.calculate(s)"
   ]
  },
  {
   "cell_type": "code",
   "execution_count": null,
   "metadata": {},
   "outputs": [],
   "source": []
  }
 ],
 "metadata": {
  "interpreter": {
   "hash": "31f2aee4e71d21fbe5cf8b01ff0e069b9275f58929596ceb00d14d90e3e16cd6"
  },
  "kernelspec": {
   "display_name": "Python 3.8.9 64-bit",
   "language": "python",
   "name": "python3"
  },
  "language_info": {
   "codemirror_mode": {
    "name": "ipython",
    "version": 3
   },
   "file_extension": ".py",
   "mimetype": "text/x-python",
   "name": "python",
   "nbconvert_exporter": "python",
   "pygments_lexer": "ipython3",
   "version": "3.8.9"
  },
  "orig_nbformat": 4
 },
 "nbformat": 4,
 "nbformat_minor": 2
}
