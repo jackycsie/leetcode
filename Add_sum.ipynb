{
 "cells": [
  {
   "cell_type": "markdown",
   "metadata": {},
   "source": [
    "# Difficult version"
   ]
  },
  {
   "cell_type": "code",
   "execution_count": 3,
   "metadata": {
    "ExecuteTime": {
     "end_time": "2020-02-20T07:42:37.756359Z",
     "start_time": "2020-02-20T07:42:37.742280Z"
    }
   },
   "outputs": [],
   "source": [
    "class Solution(object):\n",
    "    def twoSum(self, nums, target):\n",
    "        \n",
    "        hasttable_tmp = {}\n",
    "        \n",
    "        for i in range(len(nums)):\n",
    "            \n",
    "            answer_tmp = target - nums[i]  \n",
    "            \n",
    "            if (answer_tmp in hasttable_tmp) and (hasttable_tmp[answer_tmp] != i):\n",
    "                return (i, hasttable_tmp[answer_tmp])\n",
    "            \n",
    "            hasttable_tmp[nums[i]] = i"
   ]
  },
  {
   "cell_type": "code",
   "execution_count": 4,
   "metadata": {
    "ExecuteTime": {
     "end_time": "2020-02-20T07:42:38.010273Z",
     "start_time": "2020-02-20T07:42:37.987935Z"
    }
   },
   "outputs": [
    {
     "data": {
      "text/plain": [
       "(4, 2)"
      ]
     },
     "execution_count": 4,
     "metadata": {},
     "output_type": "execute_result"
    }
   ],
   "source": [
    "number = [5,9,5,3,8]\n",
    "target = 13\n",
    "test_solution = Solution()\n",
    "test_solution.twoSum(number,target)"
   ]
  },
  {
   "cell_type": "code",
   "execution_count": 5,
   "metadata": {
    "ExecuteTime": {
     "end_time": "2020-02-20T07:43:03.697298Z",
     "start_time": "2020-02-20T07:43:03.686139Z"
    }
   },
   "outputs": [],
   "source": [
    "class Solution(object):\n",
    "    def twoSum(self, nums, target):\n",
    "        for i in range(len(nums)):\n",
    "            for j in range(len(nums)):                \n",
    "                if (nums[i]+nums[j]==target) and ( i != j):\n",
    "                    return [i, j]"
   ]
  },
  {
   "cell_type": "code",
   "execution_count": 6,
   "metadata": {
    "ExecuteTime": {
     "end_time": "2020-02-20T07:43:03.930773Z",
     "start_time": "2020-02-20T07:43:03.908220Z"
    }
   },
   "outputs": [
    {
     "data": {
      "text/plain": [
       "[3, 4]"
      ]
     },
     "execution_count": 6,
     "metadata": {},
     "output_type": "execute_result"
    }
   ],
   "source": [
    "number = [5,9,4,3,7]\n",
    "target = 10\n",
    "test_solution = Solution()\n",
    "test_solution.twoSum(number,target)"
   ]
  },
  {
   "cell_type": "code",
   "execution_count": null,
   "metadata": {},
   "outputs": [],
   "source": []
  }
 ],
 "metadata": {
  "kernelspec": {
   "display_name": "Python 2",
   "language": "python",
   "name": "python2"
  },
  "language_info": {
   "codemirror_mode": {
    "name": "ipython",
    "version": 2
   },
   "file_extension": ".py",
   "mimetype": "text/x-python",
   "name": "python",
   "nbconvert_exporter": "python",
   "pygments_lexer": "ipython2",
   "version": "2.7.17"
  }
 },
 "nbformat": 4,
 "nbformat_minor": 2
}
