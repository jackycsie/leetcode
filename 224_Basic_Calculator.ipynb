{
 "cells": [
  {
   "cell_type": "code",
   "execution_count": 207,
   "metadata": {},
   "outputs": [],
   "source": [
    "s = \"(1+(4+5+2)-3)+(6+8)\""
   ]
  },
  {
   "cell_type": "code",
   "execution_count": 208,
   "metadata": {},
   "outputs": [],
   "source": [
    "class Solution:\n",
    "    def calculate(self, s):\n",
    "\n",
    "        queue_number = []\n",
    "        currect_number = 0\n",
    "        operation = 1\n",
    "        register = 0\n",
    "\n",
    "        for i in s:\n",
    "            if i.isdigit():\n",
    "                currect_number = currect_number * 10 + int(i)\n",
    "            elif i == '+' or i == '-':\n",
    "                register = register + currect_number * operation\n",
    "                currect_number = 0\n",
    "                operation = 1 if i == \"+\" else -1\n",
    "            elif i == '(':\n",
    "                queue_number.append(register)\n",
    "                queue_number.append(operation)\n",
    "                register = 0\n",
    "                operation = 1\n",
    "            elif i == ')':\n",
    "                register = register + currect_number * operation\n",
    "                currect_number = 0\n",
    "                register = register * queue_number.pop()\n",
    "                register = register + queue_number.pop()\n",
    "        register = register + currect_number * operation\n",
    "        return register\n",
    "\n",
    "            \n",
    "                "
   ]
  },
  {
   "cell_type": "code",
   "execution_count": 209,
   "metadata": {},
   "outputs": [
    {
     "data": {
      "text/plain": [
       "23"
      ]
     },
     "execution_count": 209,
     "metadata": {},
     "output_type": "execute_result"
    }
   ],
   "source": [
    "test_solution = Solution()\n",
    "test_solution.calculate(s)"
   ]
  },
  {
   "cell_type": "code",
   "execution_count": null,
   "metadata": {},
   "outputs": [],
   "source": []
  }
 ],
 "metadata": {
  "interpreter": {
   "hash": "31f2aee4e71d21fbe5cf8b01ff0e069b9275f58929596ceb00d14d90e3e16cd6"
  },
  "kernelspec": {
   "display_name": "Python 3.8.9 64-bit",
   "language": "python",
   "name": "python3"
  },
  "language_info": {
   "codemirror_mode": {
    "name": "ipython",
    "version": 3
   },
   "file_extension": ".py",
   "mimetype": "text/x-python",
   "name": "python",
   "nbconvert_exporter": "python",
   "pygments_lexer": "ipython3",
   "version": "3.8.9"
  },
  "orig_nbformat": 4
 },
 "nbformat": 4,
 "nbformat_minor": 2
}
