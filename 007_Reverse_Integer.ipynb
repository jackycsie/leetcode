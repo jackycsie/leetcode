{
 "cells": [
  {
   "cell_type": "markdown",
   "metadata": {},
   "source": [
    "這題會有兩個問題\n",
    "1. 翻轉之後第一個值若是0，自動忽略\n",
    "2. 會有溢位問題，必須輸出錢要有判斷是否溢位"
   ]
  },
  {
   "cell_type": "code",
   "execution_count": 1,
   "metadata": {},
   "outputs": [],
   "source": [
    "class Solution(object):\n",
    "    def reverse(self, x):\n",
    "        input_string = str(abs(x))\n",
    "        input_string_length = len(input_string)\n",
    "\n",
    "        if x < 0:\n",
    "            answer = -1     \n",
    "        else:\n",
    "            answer = 1\n",
    "\n",
    "        return_answer = \"\"\n",
    "        for step in range(input_string_length-1,-1,-1):\n",
    "\n",
    "            reverse_tmp = input_string[step]        \n",
    "            return_answer += reverse_tmp\n",
    "        return_answer = int(return_answer) * answer\n",
    "        return return_answer if return_answer < 2147483648 and return_answer >= -2147483648 else 0"
   ]
  },
  {
   "cell_type": "code",
   "execution_count": 2,
   "metadata": {},
   "outputs": [
    {
     "data": {
      "text/plain": [
       "-21"
      ]
     },
     "execution_count": 2,
     "metadata": {},
     "output_type": "execute_result"
    }
   ],
   "source": [
    "test_solution = Solution()\n",
    "test_solution.reverse(-120)"
   ]
  }
 ],
 "metadata": {
  "kernelspec": {
   "display_name": "Python 3",
   "language": "python",
   "name": "python3"
  },
  "language_info": {
   "codemirror_mode": {
    "name": "ipython",
    "version": 3
   },
   "file_extension": ".py",
   "mimetype": "text/x-python",
   "name": "python",
   "nbconvert_exporter": "python",
   "pygments_lexer": "ipython3",
   "version": "3.6.9"
  }
 },
 "nbformat": 4,
 "nbformat_minor": 4
}
