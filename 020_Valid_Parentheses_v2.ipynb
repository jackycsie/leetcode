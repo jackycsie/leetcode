{
 "cells": [
  {
   "cell_type": "code",
   "execution_count": 106,
   "metadata": {},
   "outputs": [],
   "source": [
    "s = \"{()}\""
   ]
  },
  {
   "cell_type": "code",
   "execution_count": 107,
   "metadata": {},
   "outputs": [],
   "source": [
    "class Solution:\n",
    "    def isValid(self, s): \n",
    "\n",
    "        match_symbol = {'{':'}', '[':']', '(':')'}\n",
    "\n",
    "        if (len(s) % 2) != 0 or s == []:\n",
    "            return False\n",
    "        \n",
    "        queue_tmp = []\n",
    "        for i in s:\n",
    "            print(queue_tmp)\n",
    "            if i in match_symbol:\n",
    "                queue_tmp.append(i)\n",
    "            elif queue_tmp == []:\n",
    "                return False\n",
    "            # elif queue_tmp[-1] == list(match_symbol.keys())[list(match_symbol.values()).index(i)]:\n",
    "            elif match_symbol[queue_tmp[-1]] == i:\n",
    "                queue_tmp.pop()\n",
    "            else:\n",
    "                return False\n",
    "        \n",
    "        if queue_tmp != []:\n",
    "            return False\n",
    "        return True\n"
   ]
  },
  {
   "cell_type": "code",
   "execution_count": 108,
   "metadata": {},
   "outputs": [
    {
     "name": "stdout",
     "output_type": "stream",
     "text": [
      "[]\n",
      "['{']\n",
      "['{', '(']\n",
      "['{']\n"
     ]
    },
    {
     "data": {
      "text/plain": [
       "True"
      ]
     },
     "execution_count": 108,
     "metadata": {},
     "output_type": "execute_result"
    }
   ],
   "source": [
    "test_solution = Solution()\n",
    "test_solution.isValid(s)"
   ]
  },
  {
   "cell_type": "code",
   "execution_count": null,
   "metadata": {},
   "outputs": [],
   "source": []
  }
 ],
 "metadata": {
  "interpreter": {
   "hash": "31f2aee4e71d21fbe5cf8b01ff0e069b9275f58929596ceb00d14d90e3e16cd6"
  },
  "kernelspec": {
   "display_name": "Python 3.8.9 64-bit",
   "language": "python",
   "name": "python3"
  },
  "language_info": {
   "codemirror_mode": {
    "name": "ipython",
    "version": 3
   },
   "file_extension": ".py",
   "mimetype": "text/x-python",
   "name": "python",
   "nbconvert_exporter": "python",
   "pygments_lexer": "ipython3",
   "version": "3.8.9"
  },
  "orig_nbformat": 4
 },
 "nbformat": 4,
 "nbformat_minor": 2
}
