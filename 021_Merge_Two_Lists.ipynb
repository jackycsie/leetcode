{
 "cells": [
  {
   "cell_type": "code",
   "execution_count": 1,
   "metadata": {},
   "outputs": [],
   "source": [
    "class ListNode:\n",
    "    def __init__(self, x):\n",
    "        self.val = x\n",
    "        self.next = None"
   ]
  },
  {
   "cell_type": "code",
   "execution_count": 2,
   "metadata": {},
   "outputs": [],
   "source": [
    "first_linked_list = ListNode(1)\n",
    "node2 = ListNode(2)\n",
    "node3 = ListNode(4)\n",
    "first_linked_list.next = node2\n",
    "node2.next = node3"
   ]
  },
  {
   "cell_type": "code",
   "execution_count": 3,
   "metadata": {},
   "outputs": [],
   "source": [
    "second_linked_list = ListNode(1)\n",
    "node2 = ListNode(3)\n",
    "node3 = ListNode(4)\n",
    "second_linked_list.next = node2\n",
    "node2.next = node3"
   ]
  },
  {
   "cell_type": "code",
   "execution_count": 4,
   "metadata": {},
   "outputs": [
    {
     "name": "stdout",
     "output_type": "stream",
     "text": [
      "1\n",
      "3\n",
      "4\n"
     ]
    }
   ],
   "source": [
    "def printList(node):\n",
    "    while node:\n",
    "        print(node.val)\n",
    "        node = node.next\n",
    "printList(second_linked_list)"
   ]
  },
  {
   "cell_type": "code",
   "execution_count": 5,
   "metadata": {},
   "outputs": [],
   "source": [
    "class Solution(object):    \n",
    "    def mergeTwoLists(self, l1, l2):\n",
    "        \n",
    "        if not l1 or not l2:\n",
    "            return l1 or l2\n",
    "\n",
    "        link_root = ListNode(0)\n",
    "        root_node = link_root\n",
    "\n",
    "        \n",
    "        while l1 and l2 :            \n",
    "            if l1.val < l2.val:\n",
    "                root_node.next = l1\n",
    "                l1 = l1.next            \n",
    "\n",
    "            else:\n",
    "                root_node.next = l2\n",
    "                l2 = l2.next\n",
    "                \n",
    "            root_node = root_node.next\n",
    "            \n",
    "        root_node.next = l1 or l2\n",
    "        return link_root.next"
   ]
  },
  {
   "cell_type": "code",
   "execution_count": 6,
   "metadata": {},
   "outputs": [
    {
     "data": {
      "text/plain": [
       "<__main__.ListNode at 0x7f804838fb00>"
      ]
     },
     "execution_count": 6,
     "metadata": {},
     "output_type": "execute_result"
    }
   ],
   "source": [
    "test_solution = Solution()\n",
    "test_solution.mergeTwoLists(first_linked_list, second_linked_list)"
   ]
  },
  {
   "cell_type": "code",
   "execution_count": null,
   "metadata": {},
   "outputs": [],
   "source": []
  }
 ],
 "metadata": {
  "kernelspec": {
   "display_name": "Python 3",
   "language": "python",
   "name": "python3"
  },
  "language_info": {
   "codemirror_mode": {
    "name": "ipython",
    "version": 3
   },
   "file_extension": ".py",
   "mimetype": "text/x-python",
   "name": "python",
   "nbconvert_exporter": "python",
   "pygments_lexer": "ipython3",
   "version": "3.6.9"
  }
 },
 "nbformat": 4,
 "nbformat_minor": 4
}
