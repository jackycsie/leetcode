{
 "cells": [
  {
   "cell_type": "code",
   "execution_count": 1,
   "metadata": {},
   "outputs": [],
   "source": [
    "# nums =  [-1,2,1,-4]\n",
    "# target = 1\n",
    "\n",
    "# nums =  [1,1,1,0]\n",
    "# target = -100\n",
    "\n",
    "# nums = [0,2,1,-3]\n",
    "# target = 1\n",
    "\n",
    "\n",
    "nums = [1, 2, 4, 8, 16, 32, 64, 128]\n",
    "target = 82"
   ]
  },
  {
   "cell_type": "code",
   "execution_count": 2,
   "metadata": {},
   "outputs": [],
   "source": [
    "class Solution(object):\n",
    "    def threeSumClosest(self, nums, target):\n",
    "\n",
    "        nums.sort()\n",
    "        print(nums)\n",
    "        tmp_number = None\n",
    "        nearly_number = 9999\n",
    "        answer_number = None\n",
    "\n",
    "        if len(nums) < 3 or nums == None:\n",
    "            return []\n",
    "        elif max(nums) == 0:\n",
    "            return 0\n",
    "\n",
    "        for first in range(len(nums)):\n",
    "            second = first + 1\n",
    "            third = len(nums)-1\n",
    "            while second < third:\n",
    "                total_number = nums[first] + nums[second] + nums[third]\n",
    "\n",
    "                print(total_number)\n",
    "\n",
    "                if total_number < 0 and target < 0:\n",
    "                    tmp_number = abs(target) - abs(total_number)\n",
    "                    tmp_number = abs(tmp_number)\n",
    "                elif total_number < 0 and target > 0:\n",
    "                    tmp_number = abs(target) + abs(total_number)\n",
    "                    tmp_number = abs(tmp_number)\n",
    "                elif total_number > 0 and target > 0:\n",
    "                    tmp_number = abs(target) - abs(total_number)\n",
    "                    tmp_number = abs(tmp_number)\n",
    "                else:\n",
    "                    tmp_number = abs(target) + abs(total_number)\n",
    "                    tmp_number = abs(tmp_number)\n",
    "            \n",
    "                if nearly_number > tmp_number:\n",
    "                    nearly_number = tmp_number\n",
    "                    answer_number = total_number\n",
    "                    \n",
    "                if total_number > target:\n",
    "                    third -= 1\n",
    "                elif total_number < target:\n",
    "                    second += 1\n",
    "                else:\n",
    "                    second += 1\n",
    "        \n",
    "\n",
    "        # if target < 0:\n",
    "        #     return nearly_number - abs(target)\n",
    "                                \n",
    "        return answer_number\n",
    "            "
   ]
  },
  {
   "cell_type": "code",
   "execution_count": 3,
   "metadata": {},
   "outputs": [
    {
     "name": "stdout",
     "output_type": "stream",
     "text": [
      "[1, 2, 4, 8, 16, 32, 64, 128]\n",
      "131\n",
      "67\n",
      "69\n",
      "73\n",
      "81\n",
      "97\n",
      "134\n",
      "70\n",
      "74\n",
      "82\n",
      "98\n",
      "140\n",
      "76\n",
      "84\n",
      "52\n",
      "152\n",
      "88\n",
      "56\n",
      "176\n",
      "112\n",
      "224\n"
     ]
    },
    {
     "data": {
      "text/plain": [
       "82"
      ]
     },
     "execution_count": 3,
     "metadata": {},
     "output_type": "execute_result"
    }
   ],
   "source": [
    "test_solution = Solution()\n",
    "test_solution.threeSumClosest(nums, target)"
   ]
  },
  {
   "cell_type": "code",
   "execution_count": null,
   "metadata": {},
   "outputs": [],
   "source": []
  }
 ],
 "metadata": {
  "interpreter": {
   "hash": "31f2aee4e71d21fbe5cf8b01ff0e069b9275f58929596ceb00d14d90e3e16cd6"
  },
  "kernelspec": {
   "display_name": "Python 3.8.9 64-bit",
   "language": "python",
   "name": "python3"
  },
  "language_info": {
   "codemirror_mode": {
    "name": "ipython",
    "version": 3
   },
   "file_extension": ".py",
   "mimetype": "text/x-python",
   "name": "python",
   "nbconvert_exporter": "python",
   "pygments_lexer": "ipython3",
   "version": "3.8.9"
  },
  "orig_nbformat": 4
 },
 "nbformat": 4,
 "nbformat_minor": 2
}
