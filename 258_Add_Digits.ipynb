{
 "cells": [
  {
   "cell_type": "code",
   "execution_count": 123,
   "metadata": {},
   "outputs": [],
   "source": [
    "num = 338"
   ]
  },
  {
   "cell_type": "code",
   "execution_count": 124,
   "metadata": {},
   "outputs": [],
   "source": [
    "class Solution(object):\n",
    "    def addDigits(self, num):\n",
    "\n",
    "        while num > 9:\n",
    "            summary = 0\n",
    "            while num > 0:\n",
    "                summary = summary + num % 10\n",
    "                num = int(num/10)\n",
    "            num = num + summary\n",
    "\n",
    "        return num"
   ]
  },
  {
   "cell_type": "code",
   "execution_count": 125,
   "metadata": {},
   "outputs": [],
   "source": [
    "class Solution(object):\n",
    "    def addDigits(self, num):\n",
    "        if num <= 0:\n",
    "            return 0\n",
    "        elif num % 9 == 0:\n",
    "            return 9\n",
    "        else:\n",
    "            num = num % 9\n",
    "        return num"
   ]
  },
  {
   "cell_type": "code",
   "execution_count": 126,
   "metadata": {},
   "outputs": [
    {
     "data": {
      "text/plain": [
       "5"
      ]
     },
     "execution_count": 126,
     "metadata": {},
     "output_type": "execute_result"
    }
   ],
   "source": [
    "test_solution = Solution()\n",
    "test_solution.addDigits(num)"
   ]
  },
  {
   "cell_type": "code",
   "execution_count": 127,
   "metadata": {},
   "outputs": [],
   "source": [
    "\n",
    "class Solution(object):\n",
    "    def addDigits(self, num):\n",
    "        if num <= 0: return 0\n",
    "        elif num % 9 ==0: return 9\n",
    "        else: return num % 9"
   ]
  }
 ],
 "metadata": {
  "interpreter": {
   "hash": "31f2aee4e71d21fbe5cf8b01ff0e069b9275f58929596ceb00d14d90e3e16cd6"
  },
  "kernelspec": {
   "display_name": "Python 3.8.9 64-bit",
   "language": "python",
   "name": "python3"
  },
  "language_info": {
   "codemirror_mode": {
    "name": "ipython",
    "version": 3
   },
   "file_extension": ".py",
   "mimetype": "text/x-python",
   "name": "python",
   "nbconvert_exporter": "python",
   "pygments_lexer": "ipython3",
   "version": "3.8.9"
  }
 },
 "nbformat": 4,
 "nbformat_minor": 2
}
