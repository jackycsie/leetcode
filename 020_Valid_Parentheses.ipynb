{
 "cells": [
  {
   "cell_type": "code",
   "execution_count": 1,
   "metadata": {},
   "outputs": [],
   "source": [
    "class Solution(object):\n",
    "    def isValid(self, s):\n",
    "        \"\"\"\n",
    "        :type s: str\n",
    "        :rtype: bool\n",
    "        \"\"\"\n",
    "        \n",
    "        dict_search = {')':'(', '}': '{', ']':'[' }\n",
    "        \n",
    "        stack_tmp = []\n",
    "        \n",
    "        for i in range(len(s)):\n",
    "            if stack_tmp == []:\n",
    "                stack_tmp.append(s[i])\n",
    "                continue\n",
    "            get_value = dict_search.get(s[i], \"none\")\n",
    "            if get_value != \"none\":\n",
    "                if stack_tmp[-1] == get_value:\n",
    "                    stack_tmp.pop()\n",
    "                else:\n",
    "                    return False\n",
    "            else:\n",
    "                stack_tmp.append(s[i])\n",
    "                \n",
    "        if stack_tmp == []:\n",
    "            return True\n",
    "        else:\n",
    "            return False"
   ]
  },
  {
   "cell_type": "code",
   "execution_count": 2,
   "metadata": {},
   "outputs": [
    {
     "data": {
      "text/plain": [
       "True"
      ]
     },
     "execution_count": 2,
     "metadata": {},
     "output_type": "execute_result"
    }
   ],
   "source": [
    "test_solution = Solution()\n",
    "test_solution.isValid(\"()[]{}\")"
   ]
  },
  {
   "cell_type": "code",
   "execution_count": null,
   "metadata": {},
   "outputs": [],
   "source": []
  }
 ],
 "metadata": {
  "kernelspec": {
   "display_name": "Python 3",
   "language": "python",
   "name": "python3"
  },
  "language_info": {
   "codemirror_mode": {
    "name": "ipython",
    "version": 3
   },
   "file_extension": ".py",
   "mimetype": "text/x-python",
   "name": "python",
   "nbconvert_exporter": "python",
   "pygments_lexer": "ipython3",
   "version": "3.6.9"
  }
 },
 "nbformat": 4,
 "nbformat_minor": 4
}
