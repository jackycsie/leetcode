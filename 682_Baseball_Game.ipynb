{
 "cells": [
  {
   "cell_type": "code",
   "execution_count": 142,
   "metadata": {},
   "outputs": [],
   "source": [
    "ops = [\"1\",\"C\"]"
   ]
  },
  {
   "cell_type": "code",
   "execution_count": 143,
   "metadata": {},
   "outputs": [],
   "source": [
    "class Solution:\n",
    "    def calPoints(self, s): \n",
    "\n",
    "        queue_result = []\n",
    "        sum_result = 0\n",
    "\n",
    "        for i in ops:\n",
    "            if i == \"C\":\n",
    "                queue_result.pop()\n",
    "            elif i == \"D\":\n",
    "                queue_result.append(int(queue_result[-1]) * 2)\n",
    "            elif i == \"+\":\n",
    "                queue_result.append(int(queue_result[-1]) + int(queue_result[-2]))\n",
    "            else:\n",
    "                queue_result.append(i)\n",
    "        \n",
    "        if queue_result == []:\n",
    "            return 0 \n",
    "\n",
    "        for j in queue_result:\n",
    "            sum_result += int(j)\n",
    "\n",
    "        return sum_result"
   ]
  },
  {
   "cell_type": "code",
   "execution_count": 144,
   "metadata": {},
   "outputs": [
    {
     "data": {
      "text/plain": [
       "0"
      ]
     },
     "execution_count": 144,
     "metadata": {},
     "output_type": "execute_result"
    }
   ],
   "source": [
    "test_solution = Solution()\n",
    "test_solution.calPoints(s)"
   ]
  },
  {
   "cell_type": "code",
   "execution_count": null,
   "metadata": {},
   "outputs": [],
   "source": []
  }
 ],
 "metadata": {
  "interpreter": {
   "hash": "31f2aee4e71d21fbe5cf8b01ff0e069b9275f58929596ceb00d14d90e3e16cd6"
  },
  "kernelspec": {
   "display_name": "Python 3.8.9 64-bit",
   "language": "python",
   "name": "python3"
  },
  "language_info": {
   "codemirror_mode": {
    "name": "ipython",
    "version": 3
   },
   "file_extension": ".py",
   "mimetype": "text/x-python",
   "name": "python",
   "nbconvert_exporter": "python",
   "pygments_lexer": "ipython3",
   "version": "3.8.9"
  },
  "orig_nbformat": 4
 },
 "nbformat": 4,
 "nbformat_minor": 2
}
