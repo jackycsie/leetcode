{
 "cells": [
  {
   "cell_type": "code",
   "execution_count": 155,
   "metadata": {},
   "outputs": [],
   "source": [
    "# tokens = [\"10\",\"6\",\"9\",\"3\",\"+\",\"-11\",\"*\",\"/\",\"*\",\"17\",\"+\",\"5\",\"+\"]\n",
    "# tokens = [\"2\",\"1\",\"+\",\"3\",\"*\"]\n",
    "# tokens = [\"4\",\"13\",\"5\",\"/\",\"+\"]\n",
    "tokens = [\"10\",\"6\",\"9\",\"3\",\"+\",\"-11\",\"*\",\"/\",\"*\",\"17\",\"+\",\"5\",\"+\"]"
   ]
  },
  {
   "cell_type": "code",
   "execution_count": 156,
   "metadata": {},
   "outputs": [],
   "source": [
    "class Solution:\n",
    "    def evalRPN(self, tokens): \n",
    "        number_queue = []\n",
    "        operands = set(['+', '-', '*', '/'])\n",
    "        for i in tokens:\n",
    "            if i in operands:\n",
    "                second, first = number_queue.pop(), number_queue.pop()\n",
    "                if i == \"+\":\n",
    "                    tmp_result = first + second\n",
    "                elif i == \"-\":\n",
    "                    tmp_result = first - second\n",
    "                elif i == \"*\":\n",
    "                    tmp_result = first * second\n",
    "                else:\n",
    "                    tmp_result = int(first / second)\n",
    "                number_queue.append(tmp_result)\n",
    "            else:\n",
    "                number_queue.append(int(i))\n",
    "        return number_queue[0]\n",
    "            "
   ]
  },
  {
   "cell_type": "code",
   "execution_count": 157,
   "metadata": {},
   "outputs": [
    {
     "data": {
      "text/plain": [
       "22"
      ]
     },
     "execution_count": 157,
     "metadata": {},
     "output_type": "execute_result"
    }
   ],
   "source": [
    "test_solution = Solution()\n",
    "test_solution.evalRPN(tokens)"
   ]
  },
  {
   "cell_type": "code",
   "execution_count": null,
   "metadata": {},
   "outputs": [],
   "source": []
  }
 ],
 "metadata": {
  "interpreter": {
   "hash": "31f2aee4e71d21fbe5cf8b01ff0e069b9275f58929596ceb00d14d90e3e16cd6"
  },
  "kernelspec": {
   "display_name": "Python 3.8.9 64-bit",
   "language": "python",
   "name": "python3"
  },
  "language_info": {
   "codemirror_mode": {
    "name": "ipython",
    "version": 3
   },
   "file_extension": ".py",
   "mimetype": "text/x-python",
   "name": "python",
   "nbconvert_exporter": "python",
   "pygments_lexer": "ipython3",
   "version": "3.8.9"
  },
  "orig_nbformat": 4
 },
 "nbformat": 4,
 "nbformat_minor": 2
}
