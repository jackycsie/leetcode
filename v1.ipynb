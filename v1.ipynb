{
 "cells": [
  {
   "cell_type": "code",
   "execution_count": 83,
   "metadata": {},
   "outputs": [],
   "source": [
    "s = \"  -0012a42\"\n",
    "# s = \"  0000000000012345678\"\n",
    "# s = \"00000-42a1234\""
   ]
  },
  {
   "cell_type": "code",
   "execution_count": 84,
   "metadata": {},
   "outputs": [],
   "source": [
    "class Solution(object):\n",
    "    def myAtoi(self, s):\n",
    "        \n",
    "        MIN, MAX = -2 ** 31, 2 ** 31 - 1\n",
    "        n, empty, sign = 0, True, 1  # empty denotes we have not seen any number, sign is -1 or 1\n",
    "        for c in s:\n",
    "            if empty:\n",
    "                if c == ' ': continue  # ignore the leading whitespace\n",
    "                elif c == '-': sign = -1  # final answer is a negative number\n",
    "                elif c.isdigit(): n = int(c)  # the first digit of number\n",
    "                elif c != '+': return 0  # the first char is not a digit and not in (' ', '+', '-'), so s is invalid\n",
    "                empty = False  # the first char is a digit or '+' or '-', valid number starts\n",
    "            else:\n",
    "                if c.isdigit():\n",
    "                    n = n * 10 + int(c)\n",
    "                    if sign * n > MAX: return MAX\n",
    "                    elif sign * n < MIN: return MIN\n",
    "                else: break   # end of valid number\n",
    "        return sign * n  # sign is 1 or -1 "
   ]
  },
  {
   "cell_type": "code",
   "execution_count": 85,
   "metadata": {},
   "outputs": [
    {
     "data": {
      "text/plain": [
       "-1"
      ]
     },
     "execution_count": 85,
     "metadata": {},
     "output_type": "execute_result"
    }
   ],
   "source": [
    "test_solution = Solution()\n",
    "test_solution.myAtoi(s)"
   ]
  }
 ],
 "metadata": {
  "interpreter": {
   "hash": "31f2aee4e71d21fbe5cf8b01ff0e069b9275f58929596ceb00d14d90e3e16cd6"
  },
  "kernelspec": {
   "display_name": "Python 3.8.9 64-bit",
   "language": "python",
   "name": "python3"
  },
  "language_info": {
   "codemirror_mode": {
    "name": "ipython",
    "version": 3
   },
   "file_extension": ".py",
   "mimetype": "text/x-python",
   "name": "python",
   "nbconvert_exporter": "python",
   "pygments_lexer": "ipython3",
   "version": "3.8.9"
  }
 },
 "nbformat": 4,
 "nbformat_minor": 2
}
