{
 "cells": [
  {
   "cell_type": "code",
   "execution_count": 2,
   "metadata": {},
   "outputs": [],
   "source": [
    "height = [1,8,6,2,5,4,8,3,7]"
   ]
  },
  {
   "cell_type": "code",
   "execution_count": 5,
   "metadata": {},
   "outputs": [],
   "source": [
    "class Solution(object):\n",
    "    def maxArea(self, height):\n",
    "        head = 0\n",
    "        tail = len(height)-1\n",
    "        max_area = 0\n",
    "        while head < tail:\n",
    "            currect_area = min(height[head], height[tail]) * (tail - head)\n",
    "            if max_area < currect_area:\n",
    "                max_area = currect_area\n",
    "                \n",
    "            if height[head] > height[tail]:\n",
    "                tail -= 1\n",
    "            elif height[head] < height[tail]:\n",
    "                head += 1\n",
    "            else:\n",
    "                tail -= 1\n",
    "                head += 1\n",
    "\n",
    "        return max_area\n",
    "\n",
    "            "
   ]
  },
  {
   "cell_type": "code",
   "execution_count": 6,
   "metadata": {},
   "outputs": [
    {
     "name": "stdout",
     "output_type": "stream",
     "text": [
      "0 0 8\n",
      "8 1 8\n",
      "49 1 7\n",
      "49 1 6\n",
      "49 2 5\n",
      "49 2 4\n",
      "49 2 3\n"
     ]
    }
   ],
   "source": [
    "test_solution = Solution()\n",
    "test_solution.maxArea(height)"
   ]
  },
  {
   "cell_type": "code",
   "execution_count": null,
   "metadata": {},
   "outputs": [],
   "source": []
  }
 ],
 "metadata": {
  "interpreter": {
   "hash": "31f2aee4e71d21fbe5cf8b01ff0e069b9275f58929596ceb00d14d90e3e16cd6"
  },
  "kernelspec": {
   "display_name": "Python 3.8.9 64-bit",
   "language": "python",
   "name": "python3"
  },
  "language_info": {
   "codemirror_mode": {
    "name": "ipython",
    "version": 3
   },
   "file_extension": ".py",
   "mimetype": "text/x-python",
   "name": "python",
   "nbconvert_exporter": "python",
   "pygments_lexer": "ipython3",
   "version": "3.8.9"
  },
  "orig_nbformat": 4
 },
 "nbformat": 4,
 "nbformat_minor": 2
}
