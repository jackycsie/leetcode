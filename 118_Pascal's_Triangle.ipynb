{
 "cells": [
  {
   "cell_type": "code",
   "execution_count": 134,
   "metadata": {},
   "outputs": [],
   "source": [
    "numRows = 6"
   ]
  },
  {
   "cell_type": "code",
   "execution_count": 135,
   "metadata": {},
   "outputs": [],
   "source": [
    "class Solution(object):\n",
    "    def generate(self, numRows):\n",
    "\n",
    "        if numRows == 1:\n",
    "            return [[1]]\n",
    "\n",
    "        if numRows == 2:\n",
    "            return [[1], [1,1]]\n",
    "\n",
    "        if numRows == 3:\n",
    "            return [[1], [1,1], [1,2,1]]\n",
    "\n",
    "        first_round = [[1], [1,1], [1,2,1]]\n",
    "        i = 4\n",
    "        while i <= numRows:\n",
    "            tmp_list = first_round[i-2]\n",
    "            currect_list = [1]\n",
    "            for j in range(0,len(tmp_list)-1,1):\n",
    "                calc_number = tmp_list[j]+tmp_list[j+1]\n",
    "                currect_list.append(calc_number)\n",
    "            currect_list.append(1)\n",
    "            first_round.append(currect_list)\n",
    "            i = i + 1\n",
    "        return first_round\n",
    "            \n",
    "\n"
   ]
  },
  {
   "cell_type": "code",
   "execution_count": 136,
   "metadata": {},
   "outputs": [
    {
     "data": {
      "text/plain": [
       "[[1], [1, 1], [1, 2, 1], [1, 3, 3, 1], [1, 4, 6, 4, 1], [1, 5, 10, 10, 5, 1]]"
      ]
     },
     "execution_count": 136,
     "metadata": {},
     "output_type": "execute_result"
    }
   ],
   "source": [
    "test_solution = Solution()\n",
    "test_solution.generate(numRows)"
   ]
  },
  {
   "cell_type": "code",
   "execution_count": null,
   "metadata": {},
   "outputs": [],
   "source": []
  }
 ],
 "metadata": {
  "interpreter": {
   "hash": "31f2aee4e71d21fbe5cf8b01ff0e069b9275f58929596ceb00d14d90e3e16cd6"
  },
  "kernelspec": {
   "display_name": "Python 3.8.9 64-bit",
   "language": "python",
   "name": "python3"
  },
  "language_info": {
   "codemirror_mode": {
    "name": "ipython",
    "version": 3
   },
   "file_extension": ".py",
   "mimetype": "text/x-python",
   "name": "python",
   "nbconvert_exporter": "python",
   "pygments_lexer": "ipython3",
   "version": "3.8.9"
  }
 },
 "nbformat": 4,
 "nbformat_minor": 2
}
